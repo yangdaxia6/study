{
 "cells": [
  {
   "cell_type": "markdown",
   "metadata": {},
   "source": [
    "# 切片"
   ]
  },
  {
   "cell_type": "code",
   "execution_count": 20,
   "metadata": {},
   "outputs": [
    {
     "name": "stdout",
     "output_type": "stream",
     "text": [
      "[[ 0  1  2  3]\n",
      " [ 4  5  6  7]\n",
      " [ 8  9 10 11]]\n",
      "[[ 4  5  6  7]\n",
      " [ 8  9 10 11]]\n",
      "[4 5 6 7]\n",
      "[4 5 6 7]\n",
      "[[0 1 2 3]]\n",
      "[1 5 9]\n",
      "[1 5 9]\n",
      "[[ 1  2  3]\n",
      " [ 5  6  7]\n",
      " [ 9 10 11]]\n",
      "[[ 1  2  3]\n",
      " [ 5  6  7]\n",
      " [ 9 10 11]]\n",
      "##################################################\n",
      "[ 6  7  8  9 10 11]\n",
      "[ 8  9 10 11] [ 8  9 10 11]\n"
     ]
    }
   ],
   "source": [
    "#1. :, 与...等价.\n",
    "#2. ::: start, stop, step\n",
    "#3. 注意a[:1], 与a[:, 1]区别\n",
    "#4. a[2], a[2, :]\n",
    "import numpy as np\n",
    "\n",
    "a = np.arange(12).reshape(3, 4)\n",
    "print(a)\n",
    "print(a[1:])\n",
    "print(a[1, :])\n",
    "print(a[1, ...])\n",
    "print(a[:1])\n",
    "print(a[:, 1])\n",
    "print(a[..., 1])\n",
    "print(a[:, 1:])\n",
    "print(a[..., 1:])\n",
    "print('#'*50)\n",
    "print(a[a>5])\n",
    "print(a[2], a[2, :])\n",
    "\n",
    "        "
   ]
  },
  {
   "cell_type": "code",
   "execution_count": 2,
   "metadata": {},
   "outputs": [
    {
     "data": {
      "text/plain": [
       "array([[ 0,  1,  2,  3],\n",
       "       [ 4,  5,  6,  7],\n",
       "       [ 8,  9, 10, 11]])"
      ]
     },
     "execution_count": 2,
     "metadata": {},
     "output_type": "execute_result"
    }
   ],
   "source": [
    "a"
   ]
  },
  {
   "cell_type": "code",
   "execution_count": null,
   "metadata": {},
   "outputs": [],
   "source": []
  }
 ],
 "metadata": {
  "kernelspec": {
   "display_name": "Python 3",
   "language": "python",
   "name": "python3"
  },
  "language_info": {
   "codemirror_mode": {
    "name": "ipython",
    "version": 3
   },
   "file_extension": ".py",
   "mimetype": "text/x-python",
   "name": "python",
   "nbconvert_exporter": "python",
   "pygments_lexer": "ipython3",
   "version": "3.7.1"
  }
 },
 "nbformat": 4,
 "nbformat_minor": 2
}
