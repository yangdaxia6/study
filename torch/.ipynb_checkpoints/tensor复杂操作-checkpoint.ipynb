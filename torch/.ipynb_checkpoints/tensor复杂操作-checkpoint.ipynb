{
 "cells": [
  {
   "cell_type": "markdown",
   "metadata": {},
   "source": [
    "# 实现for循环"
   ]
  },
  {
   "cell_type": "code",
   "execution_count": 3,
   "metadata": {},
   "outputs": [
    {
     "name": "stdout",
     "output_type": "stream",
     "text": [
      "tensor([[1.0000, 2.0000, 3.0000],\n",
      "        [1.1000, 2.1000, 3.1000]])\n",
      "tensor([[[1.0000, 2.0000, 3.0000],\n",
      "         [1.0000, 2.0000, 3.0000],\n",
      "         [1.0000, 2.0000, 3.0000]],\n",
      "\n",
      "        [[1.1000, 2.1000, 3.1000],\n",
      "         [1.1000, 2.1000, 3.1000],\n",
      "         [1.1000, 2.1000, 3.1000]]])\n",
      "tensor([[[1.0000, 1.0000, 1.0000],\n",
      "         [2.0000, 2.0000, 2.0000],\n",
      "         [3.0000, 3.0000, 3.0000]],\n",
      "\n",
      "        [[1.1000, 1.1000, 1.1000],\n",
      "         [2.1000, 2.1000, 2.1000],\n",
      "         [3.1000, 3.1000, 3.1000]]])\n",
      "tensor([[[ 0.0000, -1.0000, -2.0000],\n",
      "         [ 1.0000,  0.0000, -1.0000],\n",
      "         [ 2.0000,  1.0000,  0.0000]],\n",
      "\n",
      "        [[ 0.0000, -1.0000, -2.0000],\n",
      "         [ 1.0000,  0.0000, -1.0000],\n",
      "         [ 2.0000,  1.0000,  0.0000]]])\n"
     ]
    }
   ],
   "source": [
    "import torch\n",
    "totalClass=3\n",
    "feature_dim=2\n",
    "centers = torch.tensor([1, 2, 3, 1.1, 2.1, 3.1]).view(feature_dim, totalClass).float()\n",
    "\n",
    "centers_inter = centers.repeat(1, totalClass).view(feature_dim, totalClass, totalClass)#(64, 3, 3)\n",
    "centers_self_rep = centers.repeat(totalClass, 1).permute(1, 0).view(totalClass, totalClass, feature_dim).permute(2, 0, 1)\n",
    "center_diff = torch.add(centers_self_rep, -1, centers_inter)\n",
    "print(centers)\n",
    "print(centers_inter)\n",
    "print(centers_self_rep)\n",
    "print(center_diff)"
   ]
  },
  {
   "cell_type": "markdown",
   "metadata": {},
   "source": [
    "# 实现for循环2"
   ]
  },
  {
   "cell_type": "code",
   "execution_count": 2,
   "metadata": {},
   "outputs": [
    {
     "name": "stdout",
     "output_type": "stream",
     "text": [
      "tensor([[1.0000, 2.0000, 3.0000],\n",
      "        [1.1000, 2.1000, 3.1000]])\n",
      "tensor([[[1.0000, 2.0000, 3.0000],\n",
      "         [1.0000, 2.0000, 3.0000],\n",
      "         [1.0000, 2.0000, 3.0000]],\n",
      "\n",
      "        [[1.1000, 2.1000, 3.1000],\n",
      "         [1.1000, 2.1000, 3.1000],\n",
      "         [1.1000, 2.1000, 3.1000]]])\n",
      "tensor([[[1.0000, 1.0000, 1.0000],\n",
      "         [2.0000, 2.0000, 2.0000],\n",
      "         [3.0000, 3.0000, 3.0000]],\n",
      "\n",
      "        [[1.1000, 1.1000, 1.1000],\n",
      "         [2.1000, 2.1000, 2.1000],\n",
      "         [3.1000, 3.1000, 3.1000]]])\n",
      "tensor([[[ 0.0000, -1.0000, -2.0000],\n",
      "         [ 1.0000,  0.0000, -1.0000],\n",
      "         [ 2.0000,  1.0000,  0.0000]],\n",
      "\n",
      "        [[ 0.0000, -1.0000, -2.0000],\n",
      "         [ 1.0000,  0.0000, -1.0000],\n",
      "         [ 2.0000,  1.0000,  0.0000]]])\n"
     ]
    }
   ],
   "source": [
    "import torch\n",
    "totalClass=3\n",
    "feature_dim=2\n",
    "centers = torch.tensor([1, 2, 3, 1.1, 2.1, 3.1]).view(feature_dim, totalClass).float()\n",
    "\n",
    "centers_inter = centers.repeat(1, totalClass).view(feature_dim, totalClass, totalClass)#(64, 3, 3)\n",
    "centers_self_rep = centers_inter.permute(0, 2, 1)\n",
    "center_diff = torch.add(centers_self_rep, -1, centers_inter)\n",
    "print(centers)\n",
    "print(centers_inter)\n",
    "print(centers_self_rep)\n",
    "print(center_diff)"
   ]
  },
  {
   "cell_type": "code",
   "execution_count": null,
   "metadata": {},
   "outputs": [],
   "source": []
  }
 ],
 "metadata": {
  "kernelspec": {
   "display_name": "Python 3",
   "language": "python",
   "name": "python3"
  },
  "language_info": {
   "codemirror_mode": {
    "name": "ipython",
    "version": 3
   },
   "file_extension": ".py",
   "mimetype": "text/x-python",
   "name": "python",
   "nbconvert_exporter": "python",
   "pygments_lexer": "ipython3",
   "version": "3.7.1"
  }
 },
 "nbformat": 4,
 "nbformat_minor": 2
}
