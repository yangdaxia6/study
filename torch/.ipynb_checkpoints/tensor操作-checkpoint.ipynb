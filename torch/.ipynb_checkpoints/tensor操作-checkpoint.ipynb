{
 "cells": [
  {
   "cell_type": "code",
   "execution_count": 1,
   "metadata": {},
   "outputs": [],
   "source": [
    "import torch"
   ]
  },
  {
   "cell_type": "markdown",
   "metadata": {},
   "source": [
    "# 变换操作"
   ]
  },
  {
   "cell_type": "markdown",
   "metadata": {},
   "source": [
    "## torch.repeat"
   ]
  },
  {
   "cell_type": "code",
   "execution_count": 6,
   "metadata": {},
   "outputs": [
    {
     "name": "stdout",
     "output_type": "stream",
     "text": [
      "tensor([[1.0000, 2.0000, 3.0000],\n",
      "        [1.1000, 2.1000, 3.1000]])\n",
      "tensor([[1.0000, 2.0000, 3.0000, 1.0000, 2.0000, 3.0000, 1.0000, 2.0000, 3.0000],\n",
      "        [1.1000, 2.1000, 3.1000, 1.1000, 2.1000, 3.1000, 1.1000, 2.1000, 3.1000]])\n",
      "tensor([[1.0000, 2.0000, 3.0000],\n",
      "        [1.1000, 2.1000, 3.1000],\n",
      "        [1.0000, 2.0000, 3.0000],\n",
      "        [1.1000, 2.1000, 3.1000],\n",
      "        [1.0000, 2.0000, 3.0000],\n",
      "        [1.1000, 2.1000, 3.1000]])\n"
     ]
    }
   ],
   "source": [
    "a = torch.tensor([1, 2, 3, 1.1, 2.1, 3.1]).view(2, 3)\n",
    "print(a)\n",
    "print(a.repeat(1, 3))\n",
    "print(a.repeat(3, 1))"
   ]
  },
  {
   "cell_type": "markdown",
   "metadata": {},
   "source": [
    "## torch.view"
   ]
  },
  {
   "cell_type": "code",
   "execution_count": 10,
   "metadata": {},
   "outputs": [
    {
     "name": "stdout",
     "output_type": "stream",
     "text": [
      "tensor([[1.0000, 2.0000, 3.0000],\n",
      "        [1.1000, 2.1000, 3.1000]])\n",
      "tensor([[1.0000, 2.0000, 3.0000, 1.1000, 2.1000, 3.1000]])\n",
      "tensor([[1.0000, 2.0000],\n",
      "        [3.0000, 1.1000],\n",
      "        [2.1000, 3.1000]])\n"
     ]
    }
   ],
   "source": [
    "a = torch.tensor([1, 2, 3, 1.1, 2.1, 3.1]).view(2, 3)\n",
    "print(a)\n",
    "print(a.view(1, 6))\n",
    "print(a.view(3, 2))\n",
    "#先把原矩阵转为1维矩阵, 再view, 长宽长度变换"
   ]
  },
  {
   "cell_type": "markdown",
   "metadata": {},
   "source": [
    "## torch.permute"
   ]
  },
  {
   "cell_type": "code",
   "execution_count": 13,
   "metadata": {},
   "outputs": [
    {
     "name": "stdout",
     "output_type": "stream",
     "text": [
      "tensor([[[0.9450, 0.7652, 0.4687],\n",
      "         [0.1275, 0.3541, 0.1216],\n",
      "         [0.5265, 0.2152, 0.9015]],\n",
      "\n",
      "        [[0.0413, 0.0178, 0.5594],\n",
      "         [0.5511, 0.9967, 0.9560],\n",
      "         [0.2367, 0.6877, 0.4822]]])\n",
      "tensor([[[0.9450, 0.1275, 0.5265],\n",
      "         [0.0413, 0.5511, 0.2367]],\n",
      "\n",
      "        [[0.7652, 0.3541, 0.2152],\n",
      "         [0.0178, 0.9967, 0.6877]],\n",
      "\n",
      "        [[0.4687, 0.1216, 0.9015],\n",
      "         [0.5594, 0.9560, 0.4822]]])\n",
      "tensor([[[0.9450, 0.1275, 0.5265],\n",
      "         [0.0413, 0.5511, 0.2367]],\n",
      "\n",
      "        [[0.7652, 0.3541, 0.2152],\n",
      "         [0.0178, 0.9967, 0.6877]],\n",
      "\n",
      "        [[0.4687, 0.1216, 0.9015],\n",
      "         [0.5594, 0.9560, 0.4822]]])\n"
     ]
    }
   ],
   "source": [
    "a = torch.rand(2, 3, 3)\n",
    "print(a)\n",
    "print(a.permute(2, 0, 1))#c, h, w -->w, c, h\n",
    "print(a.permute(0, 2, 1).permute(1,0, 2))\n",
    "#上述两个操作等价, 即通道数不变, 长宽旋转, 再w不变, 通道与h平面旋转,理解为长方体也可以."
   ]
  },
  {
   "cell_type": "code",
   "execution_count": null,
   "metadata": {},
   "outputs": [],
   "source": []
  }
 ],
 "metadata": {
  "kernelspec": {
   "display_name": "Python 3",
   "language": "python",
   "name": "python3"
  },
  "language_info": {
   "codemirror_mode": {
    "name": "ipython",
    "version": 3
   },
   "file_extension": ".py",
   "mimetype": "text/x-python",
   "name": "python",
   "nbconvert_exporter": "python",
   "pygments_lexer": "ipython3",
   "version": "3.7.1"
  }
 },
 "nbformat": 4,
 "nbformat_minor": 2
}
