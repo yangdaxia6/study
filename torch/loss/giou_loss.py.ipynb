{
 "cells": [
  {
   "cell_type": "code",
   "execution_count": 3,
   "metadata": {},
   "outputs": [],
   "source": [
    "import torch\n",
    "import torch.nn as nn\n",
    "import torch.nn.functional as F\n",
    "\n",
    "def bbox_overlaps_giou(bboxes1, bboxes2):\n",
    "    \"\"\"Calculate the gious between each bbox of bboxes1 and bboxes2.\n",
    "    Args:\n",
    "        bboxes1(ndarray): shape (n, 4)\n",
    "        bboxes2(ndarray): shape (k, 4)\n",
    "    Returns:\n",
    "        gious(ndarray): shape (n, k)\n",
    "    \"\"\"\n",
    "\n",
    "\n",
    "    #bboxes1 = torch.FloatTensor(bboxes1)\n",
    "    #bboxes2 = torch.FloatTensor(bboxes2)\n",
    "    rows = bboxes1.shape[0]\n",
    "    cols = bboxes2.shape[0]\n",
    "    ious = torch.zeros((rows, cols))\n",
    "    if rows * cols == 0:\n",
    "        return ious\n",
    "    exchange = False\n",
    "    if bboxes1.shape[0] > bboxes2.shape[0]:\n",
    "        bboxes1, bboxes2 = bboxes2, bboxes1\n",
    "        ious = torch.zeros((cols, rows))\n",
    "        exchange = True\n",
    "    area1 = (bboxes1[:, 2] - bboxes1[:, 0]) * (\n",
    "        bboxes1[:, 3] - bboxes1[:, 1])\n",
    "    area2 = (bboxes2[:, 2] - bboxes2[:, 0]) * (\n",
    "        bboxes2[:, 3] - bboxes2[:, 1])\n",
    "\n",
    "    inter_max_xy = torch.min(bboxes1[:, 2:],bboxes2[:, 2:])\n",
    "\n",
    "    inter_min_xy = torch.max(bboxes1[:, :2],bboxes2[:, :2])\n",
    "\n",
    "    out_max_xy = torch.max(bboxes1[:, 2:],bboxes2[:, 2:])\n",
    "\n",
    "    out_min_xy = torch.min(bboxes1[:, :2],bboxes2[:, :2])\n",
    "\n",
    "    inter = torch.clamp((inter_max_xy - inter_min_xy), min=0)\n",
    "    inter_area = inter[:, 0] * inter[:, 1]\n",
    "    outer = torch.clamp((out_max_xy - out_min_xy), min=0)\n",
    "    outer_area = outer[:, 0] * outer[:, 1]\n",
    "    union = area1+area2-inter_area\n",
    "    closure = outer_area\n",
    "\n",
    "    ious = inter_area / union - (closure - union) / closure\n",
    "    ious = torch.clamp(ious,min=-1.0,max = 1.0)\n",
    "    #print(ious)\n",
    "    if exchange:\n",
    "        ious = ious.T\n",
    "    return ious\n",
    "\n",
    "class GiouLoss(nn.Module):\n",
    "    \"\"\"\n",
    "        This criterion is a implemenation of Giou Loss, which is proposed in \n",
    "        Generalized Intersection over Union Loss for: A Metric and A Loss for Bounding Box Regression.\n",
    "            Loss(loc_p, loc_t) = 1-GIoU\n",
    "        The losses are summed across observations for each minibatch.\n",
    "        Args:\n",
    "            size_sum(bool): By default, the losses are summed over observations for each minibatch.\n",
    "                                However, if the field size_sum is set to False, the losses are\n",
    "                                instead averaged for each minibatch.\n",
    "            predmodel(Corner,Center): By default, the loc_p is the Corner shape like (x1,y1,x2,y2)\n",
    "            The shape is [num_prior,4],and it's (x_1,y_1,x_2,y_2)\n",
    "            loc_p: the predict of loc\n",
    "            loc_t: the truth of boxes, it's (x_1,y_1,x_2,y_2)\n",
    "            \n",
    "    \"\"\"\n",
    "    def __init__(self,pred_mode = 'Center',size_sum=True,variances=None):\n",
    "        super(GiouLoss, self).__init__()\n",
    "        self.size_sum = size_sum\n",
    "        self.pred_mode = pred_mode\n",
    "        self.variances = variances\n",
    "    def forward(self, loc_p, loc_t,prior_data):\n",
    "        num = loc_p.shape[0] \n",
    "        \n",
    "        if self.pred_mode == 'Center':\n",
    "            decoded_boxes = decode(loc_p, prior_data, self.variances)\n",
    "        else:\n",
    "            decoded_boxes = loc_p\n",
    "        #loss = torch.tensor([1.0])\n",
    "        gious =1.0 - bbox_overlaps_giou(decoded_boxes,loc_t)\n",
    "        \n",
    "        loss = torch.sum(gious)\n",
    "     \n",
    "        if self.size_sum:\n",
    "            loss = loss\n",
    "        else:\n",
    "            loss = loss/num\n",
    "        return 5*loss"
   ]
  },
  {
   "cell_type": "code",
   "execution_count": 26,
   "metadata": {},
   "outputs": [
    {
     "name": "stdout",
     "output_type": "stream",
     "text": [
      "tensor([[84.6549, 92.1703, 48.7778, 26.3684],\n",
      "        [71.1937, 22.3946, 99.2003, 36.0609]]) tensor([[56.7005, 68.4486, 97.0677, 28.8729],\n",
      "        [50.4809, 27.5771, 18.0142, 72.6310]])\n",
      "torch.Size([2, 2]) torch.Size([2, 2])\n"
     ]
    },
    {
     "data": {
      "text/plain": [
       "tensor([[48.7778, 26.3684],\n",
       "        [18.0142, 36.0609]])"
      ]
     },
     "execution_count": 26,
     "metadata": {},
     "output_type": "execute_result"
    }
   ],
   "source": [
    "n, k, = 2, 2\n",
    "bboxes1=torch.rand(n, 4)*100\n",
    "bboxes2=torch.rand(k, 4)*100\n",
    "print(bboxes1, bboxes2)\n",
    "print(bboxes1[:, 2:].shape, bboxes2[:, 2:].shape)\n",
    "torch.min(bboxes1[:, 2:],bboxes2[:, 2:])"
   ]
  },
  {
   "cell_type": "code",
   "execution_count": null,
   "metadata": {},
   "outputs": [],
   "source": []
  }
 ],
 "metadata": {
  "kernelspec": {
   "display_name": "Python 3",
   "language": "python",
   "name": "python3"
  },
  "language_info": {
   "codemirror_mode": {
    "name": "ipython",
    "version": 3
   },
   "file_extension": ".py",
   "mimetype": "text/x-python",
   "name": "python",
   "nbconvert_exporter": "python",
   "pygments_lexer": "ipython3",
   "version": "3.7.1"
  }
 },
 "nbformat": 4,
 "nbformat_minor": 2
}
