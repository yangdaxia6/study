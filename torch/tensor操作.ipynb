{
 "cells": [
  {
   "cell_type": "code",
   "execution_count": 1,
   "metadata": {},
   "outputs": [],
   "source": [
    "import torch"
   ]
  },
  {
   "cell_type": "markdown",
   "metadata": {},
   "source": [
    "# 变换操作"
   ]
  },
  {
   "cell_type": "markdown",
   "metadata": {},
   "source": [
    "## torch.repeat"
   ]
  },
  {
   "cell_type": "code",
   "execution_count": 6,
   "metadata": {},
   "outputs": [
    {
     "name": "stdout",
     "output_type": "stream",
     "text": [
      "tensor([[1.0000, 2.0000, 3.0000],\n",
      "        [1.1000, 2.1000, 3.1000]])\n",
      "tensor([[1.0000, 2.0000, 3.0000, 1.0000, 2.0000, 3.0000, 1.0000, 2.0000, 3.0000],\n",
      "        [1.1000, 2.1000, 3.1000, 1.1000, 2.1000, 3.1000, 1.1000, 2.1000, 3.1000]])\n",
      "tensor([[1.0000, 2.0000, 3.0000],\n",
      "        [1.1000, 2.1000, 3.1000],\n",
      "        [1.0000, 2.0000, 3.0000],\n",
      "        [1.1000, 2.1000, 3.1000],\n",
      "        [1.0000, 2.0000, 3.0000],\n",
      "        [1.1000, 2.1000, 3.1000]])\n"
     ]
    }
   ],
   "source": [
    "a = torch.tensor([1, 2, 3, 1.1, 2.1, 3.1]).view(2, 3)\n",
    "print(a)\n",
    "print(a.repeat(1, 3))\n",
    "print(a.repeat(3, 1))"
   ]
  },
  {
   "cell_type": "markdown",
   "metadata": {},
   "source": [
    "## torch.view"
   ]
  },
  {
   "cell_type": "code",
   "execution_count": 10,
   "metadata": {},
   "outputs": [
    {
     "name": "stdout",
     "output_type": "stream",
     "text": [
      "tensor([[1.0000, 2.0000, 3.0000],\n",
      "        [1.1000, 2.1000, 3.1000]])\n",
      "tensor([[1.0000, 2.0000, 3.0000, 1.1000, 2.1000, 3.1000]])\n",
      "tensor([[1.0000, 2.0000],\n",
      "        [3.0000, 1.1000],\n",
      "        [2.1000, 3.1000]])\n"
     ]
    }
   ],
   "source": [
    "a = torch.tensor([1, 2, 3, 1.1, 2.1, 3.1]).view(2, 3)\n",
    "print(a)\n",
    "print(a.view(1, 6))\n",
    "print(a.view(3, 2))\n",
    "#先把原矩阵转为1维矩阵, 再view, 长宽长度变换"
   ]
  },
  {
   "cell_type": "markdown",
   "metadata": {},
   "source": [
    "## torch.permute"
   ]
  },
  {
   "cell_type": "code",
   "execution_count": 14,
   "metadata": {},
   "outputs": [
    {
     "name": "stdout",
     "output_type": "stream",
     "text": [
      "tensor([[[0.6398, 0.2360, 0.1091],\n",
      "         [0.1882, 0.1385, 0.6174],\n",
      "         [0.6457, 0.8207, 0.0792]],\n",
      "\n",
      "        [[0.6341, 0.9761, 0.6546],\n",
      "         [0.8318, 0.8928, 0.2427],\n",
      "         [0.9904, 0.8188, 0.5234]]])\n",
      "tensor([[[0.6398, 0.1882, 0.6457],\n",
      "         [0.6341, 0.8318, 0.9904]],\n",
      "\n",
      "        [[0.2360, 0.1385, 0.8207],\n",
      "         [0.9761, 0.8928, 0.8188]],\n",
      "\n",
      "        [[0.1091, 0.6174, 0.0792],\n",
      "         [0.6546, 0.2427, 0.5234]]])\n",
      "tensor([[[0.6398, 0.1882, 0.6457],\n",
      "         [0.6341, 0.8318, 0.9904]],\n",
      "\n",
      "        [[0.2360, 0.1385, 0.8207],\n",
      "         [0.9761, 0.8928, 0.8188]],\n",
      "\n",
      "        [[0.1091, 0.6174, 0.0792],\n",
      "         [0.6546, 0.2427, 0.5234]]])\n"
     ]
    }
   ],
   "source": [
    "a = torch.rand(2, 3, 3)\n",
    "print(a)\n",
    "print(a.permute(2, 0, 1))#c, h, w -->w, c, h\n",
    "print(a.permute(0, 2, 1).permute(1,0, 2))\n",
    "#上述两个操作等价, 即通道数不变, 长宽旋转, 再w不变, 通道与h平面旋转,理解为长方体也可以."
   ]
  },
  {
   "cell_type": "code",
   "execution_count": null,
   "metadata": {},
   "outputs": [],
   "source": []
  }
 ],
 "metadata": {
  "kernelspec": {
   "display_name": "Python 3",
   "language": "python",
   "name": "python3"
  },
  "language_info": {
   "codemirror_mode": {
    "name": "ipython",
    "version": 3
   },
   "file_extension": ".py",
   "mimetype": "text/x-python",
   "name": "python",
   "nbconvert_exporter": "python",
   "pygments_lexer": "ipython3",
   "version": "3.7.1"
  }
 },
 "nbformat": 4,
 "nbformat_minor": 2
}
