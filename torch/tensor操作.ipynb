{
 "cells": [
  {
   "cell_type": "code",
   "execution_count": 1,
   "metadata": {},
   "outputs": [],
   "source": [
    "import torch"
   ]
  },
  {
   "cell_type": "markdown",
   "metadata": {},
   "source": [
    "# 变换操作"
   ]
  },
  {
   "cell_type": "markdown",
   "metadata": {},
   "source": [
    "## torch.repeat"
   ]
  },
  {
   "cell_type": "code",
   "execution_count": 6,
   "metadata": {},
   "outputs": [
    {
     "name": "stdout",
     "output_type": "stream",
     "text": [
      "tensor([[1.0000, 2.0000, 3.0000],\n",
      "        [1.1000, 2.1000, 3.1000]])\n",
      "tensor([[1.0000, 2.0000, 3.0000, 1.0000, 2.0000, 3.0000, 1.0000, 2.0000, 3.0000],\n",
      "        [1.1000, 2.1000, 3.1000, 1.1000, 2.1000, 3.1000, 1.1000, 2.1000, 3.1000]])\n",
      "tensor([[1.0000, 2.0000, 3.0000],\n",
      "        [1.1000, 2.1000, 3.1000],\n",
      "        [1.0000, 2.0000, 3.0000],\n",
      "        [1.1000, 2.1000, 3.1000],\n",
      "        [1.0000, 2.0000, 3.0000],\n",
      "        [1.1000, 2.1000, 3.1000]])\n"
     ]
    }
   ],
   "source": [
    "a = torch.tensor([1, 2, 3, 1.1, 2.1, 3.1]).view(2, 3)\n",
    "print(a)\n",
    "print(a.repeat(1, 3))\n",
    "print(a.repeat(3, 1))"
   ]
  },
  {
   "cell_type": "markdown",
   "metadata": {},
   "source": [
    "## torch.view"
   ]
  },
  {
   "cell_type": "code",
   "execution_count": 10,
   "metadata": {},
   "outputs": [
    {
     "name": "stdout",
     "output_type": "stream",
     "text": [
      "tensor([[1.0000, 2.0000, 3.0000],\n",
      "        [1.1000, 2.1000, 3.1000]])\n",
      "tensor([[1.0000, 2.0000, 3.0000, 1.1000, 2.1000, 3.1000]])\n",
      "tensor([[1.0000, 2.0000],\n",
      "        [3.0000, 1.1000],\n",
      "        [2.1000, 3.1000]])\n"
     ]
    }
   ],
   "source": [
    "a = torch.tensor([1, 2, 3, 1.1, 2.1, 3.1]).view(2, 3)\n",
    "print(a)\n",
    "print(a.view(1, 6))\n",
    "print(a.view(3, 2))\n",
    "#先把原矩阵转为1维矩阵, 再view, 长宽长度变换"
   ]
  },
  {
   "cell_type": "markdown",
   "metadata": {},
   "source": [
    "## torch.permute"
   ]
  },
  {
   "cell_type": "code",
   "execution_count": 14,
   "metadata": {},
   "outputs": [
    {
     "name": "stdout",
     "output_type": "stream",
     "text": [
      "tensor([[[0.6398, 0.2360, 0.1091],\n",
      "         [0.1882, 0.1385, 0.6174],\n",
      "         [0.6457, 0.8207, 0.0792]],\n",
      "\n",
      "        [[0.6341, 0.9761, 0.6546],\n",
      "         [0.8318, 0.8928, 0.2427],\n",
      "         [0.9904, 0.8188, 0.5234]]])\n",
      "tensor([[[0.6398, 0.1882, 0.6457],\n",
      "         [0.6341, 0.8318, 0.9904]],\n",
      "\n",
      "        [[0.2360, 0.1385, 0.8207],\n",
      "         [0.9761, 0.8928, 0.8188]],\n",
      "\n",
      "        [[0.1091, 0.6174, 0.0792],\n",
      "         [0.6546, 0.2427, 0.5234]]])\n",
      "tensor([[[0.6398, 0.1882, 0.6457],\n",
      "         [0.6341, 0.8318, 0.9904]],\n",
      "\n",
      "        [[0.2360, 0.1385, 0.8207],\n",
      "         [0.9761, 0.8928, 0.8188]],\n",
      "\n",
      "        [[0.1091, 0.6174, 0.0792],\n",
      "         [0.6546, 0.2427, 0.5234]]])\n"
     ]
    }
   ],
   "source": [
    "#理解为沿着某一维度旋转操作的组合\n",
    "a = torch.rand(2, 3, 3)\n",
    "print(a)\n",
    "print(a.permute(2, 0, 1))#c, h, w -->w, c, h\n",
    "print(a.permute(0, 2, 1).permute(1,0, 2))\n",
    "#上述两个操作等价, 即通道数不变, 长宽旋转, 再w不变, 通道与h平面旋转,理解为长方体也可以."
   ]
  },
  {
   "cell_type": "markdown",
   "metadata": {},
   "source": [
    "# None"
   ]
  },
  {
   "cell_type": "code",
   "execution_count": 11,
   "metadata": {},
   "outputs": [
    {
     "name": "stdout",
     "output_type": "stream",
     "text": [
      "tensor([[0.8063, 0.8291, 0.0403],\n",
      "        [0.0591, 0.5231, 0.9671]])\n",
      "torch.Size([1, 2, 3])\n",
      "tensor([[[0.8063, 0.8291, 0.0403]],\n",
      "\n",
      "        [[0.0591, 0.5231, 0.9671]]])\n",
      "torch.Size([2, 1, 3])\n"
     ]
    }
   ],
   "source": [
    "import torch\n",
    "a = torch.rand(2, 3)\n",
    "print(a)\n",
    "print(a[None].shape) #相当于在dim = 0加一维\n",
    "print(a[:, None, :]) #相当于在dim=1增加一维空白维度, 可以配合expand使用\n",
    "print(a[:, None, :].shape)"
   ]
  },
  {
   "cell_type": "markdown",
   "metadata": {},
   "source": [
    "# repeat 和 expand"
   ]
  },
  {
   "cell_type": "markdown",
   "metadata": {},
   "source": [
    "repeat为在某一维度重复的次数\n",
    "\n",
    "expand为某一维度扩展到->某个值"
   ]
  },
  {
   "cell_type": "code",
   "execution_count": 15,
   "metadata": {},
   "outputs": [
    {
     "name": "stdout",
     "output_type": "stream",
     "text": [
      "tensor([[0.7718, 0.2674, 0.8378],\n",
      "        [0.8361, 0.4883, 0.9315]])\n",
      "tensor([[[0.7718, 0.2674, 0.8378],\n",
      "         [0.8361, 0.4883, 0.9315]]])\n",
      "tensor([[[0.7718, 0.2674, 0.8378],\n",
      "         [0.8361, 0.4883, 0.9315]],\n",
      "\n",
      "        [[0.7718, 0.2674, 0.8378],\n",
      "         [0.8361, 0.4883, 0.9315]]])\n",
      "\n",
      "####################\n",
      "\n",
      "tensor([[[0.7718, 0.2674, 0.8378]],\n",
      "\n",
      "        [[0.8361, 0.4883, 0.9315]]])\n",
      "tensor([[[0.7718, 0.2674, 0.8378],\n",
      "         [0.7718, 0.2674, 0.8378]],\n",
      "\n",
      "        [[0.8361, 0.4883, 0.9315],\n",
      "         [0.8361, 0.4883, 0.9315]]])\n"
     ]
    }
   ],
   "source": [
    "import torch\n",
    "a = torch.rand(2, 3)\n",
    "print(a)\n",
    "print(a[None]) #相当于在dim = 0加一维\n",
    "print(a[None].expand(2, 2, 3)) #相当于在dim = 0加一维\n",
    "print('\\n'+'#'*20 + '\\n')\n",
    "print(a[:, None, :]) \n",
    "print(a[:, None, :].expand(2, 2, 3)) #相当于在dim=1增加一维空白维度, 可以配合expand使用\n",
    "\n"
   ]
  },
  {
   "cell_type": "markdown",
   "metadata": {},
   "source": [
    "# :与..."
   ]
  },
  {
   "cell_type": "code",
   "execution_count": null,
   "metadata": {},
   "outputs": [],
   "source": [
    "多维数组, 索引严格按照位置., 如三维, a[:, 2]等价于a[:, 2, :]!=a[..., 2]"
   ]
  },
  {
   "cell_type": "code",
   "execution_count": 25,
   "metadata": {},
   "outputs": [
    {
     "name": "stdout",
     "output_type": "stream",
     "text": [
      "tensor([[[0.2054, 0.5011, 0.0172, 0.0823],\n",
      "         [0.5334, 0.1181, 0.1707, 0.3074],\n",
      "         [0.8150, 0.9895, 0.6376, 0.8298]],\n",
      "\n",
      "        [[0.0887, 0.7321, 0.5029, 0.3481],\n",
      "         [0.1371, 0.9003, 0.9134, 0.2163],\n",
      "         [0.7767, 0.0965, 0.6920, 0.8783]]])\n",
      "tensor([[0.8150, 0.9895, 0.6376, 0.8298],\n",
      "        [0.7767, 0.0965, 0.6920, 0.8783]])\n",
      "tensor([[0.8150, 0.9895, 0.6376, 0.8298],\n",
      "        [0.7767, 0.0965, 0.6920, 0.8783]])\n",
      "tensor([[0.0172, 0.1707, 0.6376],\n",
      "        [0.5029, 0.9134, 0.6920]])\n",
      "\n",
      "####################\n",
      "\n",
      "tensor([[0.1151, 0.5351, 0.2433, 0.6230],\n",
      "        [0.5952, 0.7412, 0.3889, 0.4852]])\n",
      "tensor([0.2433, 0.3889])\n",
      "tensor([0.2433, 0.3889])\n"
     ]
    }
   ],
   "source": [
    "import torch\n",
    "\n",
    "a = torch.rand(2, 3, 4)\n",
    "print(a)\n",
    "print(a[:, 2])\n",
    "print(a[:, 2, :])  \n",
    "print(a[..., 2])\n",
    "print('\\n'+'#'*20 + '\\n')\n",
    "b = torch.rand(2, 4)\n",
    "print(b)\n",
    "print(b[:, 2])\n",
    "print(b[..., 2])"
   ]
  },
  {
   "cell_type": "markdown",
   "metadata": {},
   "source": [
    "# torch.where"
   ]
  },
  {
   "cell_type": "code",
   "execution_count": 27,
   "metadata": {},
   "outputs": [
    {
     "name": "stdout",
     "output_type": "stream",
     "text": [
      "tensor([[ 1.6762, -0.6629, -0.7343, -0.1085],\n",
      "        [ 0.8326, -1.4595, -0.4163,  0.9151]])\n"
     ]
    },
    {
     "data": {
      "text/plain": [
       "tensor([[1, 0, 0, 0],\n",
       "        [1, 0, 0, 1]])"
      ]
     },
     "execution_count": 27,
     "metadata": {},
     "output_type": "execute_result"
    }
   ],
   "source": [
    "import torch\n",
    "a = torch.randn(2, 4)\n",
    "print(a)\n",
    "torch.where(a>0.2, torch.tensor([1]), torch.tensor([0])) # ? yes no, "
   ]
  },
  {
   "cell_type": "markdown",
   "metadata": {},
   "source": [
    "# torch.min与torch.max"
   ]
  },
  {
   "cell_type": "code",
   "execution_count": 31,
   "metadata": {},
   "outputs": [
    {
     "name": "stdout",
     "output_type": "stream",
     "text": [
      "tensor([[ 3.3850e+00,  1.5893e-01,  1.6896e+00, -1.3328e-01],\n",
      "        [-5.9827e-04,  3.2300e-01,  1.1232e+00,  6.3458e-01]])\n"
     ]
    },
    {
     "data": {
      "text/plain": [
       "torch.return_types.min(\n",
       "values=tensor([-0.1333, -0.0006]),\n",
       "indices=tensor([3, 0]))"
      ]
     },
     "execution_count": 31,
     "metadata": {},
     "output_type": "execute_result"
    }
   ],
   "source": [
    "import torch\n",
    "a = torch.randn(2, 4)\n",
    "print(a)\n",
    "a.min(-1)"
   ]
  },
  {
   "cell_type": "code",
   "execution_count": 1,
   "metadata": {},
   "outputs": [
    {
     "data": {
      "text/plain": [
       "[1, 2, 5, 6]"
      ]
     },
     "execution_count": 1,
     "metadata": {},
     "output_type": "execute_result"
    }
   ],
   "source": [
    "a = [1, 2, 3, 4, 5, 6]\n",
    "b = a[:2] + a[4:6]\n",
    "b"
   ]
  },
  {
   "cell_type": "markdown",
   "metadata": {},
   "source": [
    "# detach"
   ]
  },
  {
   "cell_type": "code",
   "execution_count": null,
   "metadata": {},
   "outputs": [],
   "source": []
  }
 ],
 "metadata": {
  "kernelspec": {
   "display_name": "Python 3",
   "language": "python",
   "name": "python3"
  },
  "language_info": {
   "codemirror_mode": {
    "name": "ipython",
    "version": 3
   },
   "file_extension": ".py",
   "mimetype": "text/x-python",
   "name": "python",
   "nbconvert_exporter": "python",
   "pygments_lexer": "ipython3",
   "version": "3.7.1"
  }
 },
 "nbformat": 4,
 "nbformat_minor": 2
}
